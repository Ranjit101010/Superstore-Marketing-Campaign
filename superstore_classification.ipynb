{
 "cells": [
  {
   "cell_type": "code",
   "execution_count": 1,
   "id": "9405803f",
   "metadata": {},
   "outputs": [
    {
     "name": "stdout",
     "output_type": "stream",
     "text": [
      "21\n"
     ]
    }
   ],
   "source": [
    "def s1(x, y):\n",
    "    return x*y\n",
    "\n",
    "class A:\n",
    "\n",
    "    @staticmethod\n",
    "    def s1(x, y):\n",
    "        return x + y\n",
    "\n",
    "    def s2(self, x, y):\n",
    "        return s1(x, y)\n",
    "\n",
    "a = A()\n",
    "print(a.s2(3, 7))"
   ]
  },
  {
   "cell_type": "code",
   "execution_count": 3,
   "id": "28c0d82e",
   "metadata": {},
   "outputs": [
    {
     "name": "stdout",
     "output_type": "stream",
     "text": [
      "Length of 'Jack' : 4\n",
      "Length of 'Black' : 5\n",
      "Length of 'Ranjit' : 6\n",
      "Length of 'Kumar' : 5\n"
     ]
    }
   ],
   "source": [
    "def stringParser():\n",
    "    while True:\n",
    "        name = yield\n",
    "        (fname, lname) = name.split()\n",
    "        f.send(fname)\n",
    "        f.send(lname)\n",
    "\n",
    "def stringLength():\n",
    "    while True:\n",
    "        string = yield\n",
    "        print(\"Length of '{}' : {}\".format(string, len(string)))\n",
    "\n",
    "\n",
    "f = stringLength(); next(f)\n",
    "\n",
    "s = stringParser()\n",
    "next(s)\n",
    "s.send('Jack Black')\n",
    "s.send('Ranjit Kumar')"
   ]
  },
  {
   "cell_type": "code",
   "execution_count": 4,
   "id": "2a8c8635",
   "metadata": {},
   "outputs": [
    {
     "name": "stdout",
     "output_type": "stream",
     "text": [
      "In Class A, method getC.\n",
      "In Class A, method getC.\n"
     ]
    }
   ],
   "source": [
    "class A:\n",
    "\n",
    "    @classmethod\n",
    "    def getC(self):\n",
    "        print('In Class A, method getC.')\n",
    "\n",
    "class B(A):\n",
    "    pass\n",
    "\n",
    "b = B()\n",
    "B.getC()\n",
    "b.getC()"
   ]
  },
  {
   "cell_type": "code",
   "execution_count": 5,
   "id": "ef9dac7d",
   "metadata": {},
   "outputs": [
    {
     "name": "stdout",
     "output_type": "stream",
     "text": [
      "50\n"
     ]
    }
   ],
   "source": [
    "def outer(x, y):\n",
    "\n",
    "    def inner1():\n",
    "        return x+y\n",
    "\n",
    "    def inner2(z):\n",
    "        return inner1() + z\n",
    "\n",
    "    return inner2\n",
    "\n",
    "\n",
    "f = outer(10, 25)\n",
    "\n",
    "print(f(15))"
   ]
  },
  {
   "cell_type": "code",
   "execution_count": 6,
   "id": "0a61cf5c",
   "metadata": {},
   "outputs": [
    {
     "ename": "AttributeError",
     "evalue": "'A' object has no attribute '_A__x'",
     "output_type": "error",
     "traceback": [
      "\u001b[1;31m---------------------------------------------------------------------------\u001b[0m",
      "\u001b[1;31mAttributeError\u001b[0m                            Traceback (most recent call last)",
      "\u001b[1;32m~\\AppData\\Local\\Temp/ipykernel_15584/2833132159.py\u001b[0m in \u001b[0;36m<module>\u001b[1;34m\u001b[0m\n\u001b[0;32m     18\u001b[0m \u001b[0ma\u001b[0m \u001b[1;33m=\u001b[0m \u001b[0mA\u001b[0m\u001b[1;33m(\u001b[0m\u001b[1;36m7\u001b[0m\u001b[1;33m)\u001b[0m\u001b[1;33m\u001b[0m\u001b[1;33m\u001b[0m\u001b[0m\n\u001b[0;32m     19\u001b[0m \u001b[1;32mdel\u001b[0m \u001b[0ma\u001b[0m\u001b[1;33m.\u001b[0m\u001b[0mx\u001b[0m\u001b[1;33m\u001b[0m\u001b[1;33m\u001b[0m\u001b[0m\n\u001b[1;32m---> 20\u001b[1;33m \u001b[0mprint\u001b[0m\u001b[1;33m(\u001b[0m\u001b[0ma\u001b[0m\u001b[1;33m.\u001b[0m\u001b[0mx\u001b[0m\u001b[1;33m)\u001b[0m\u001b[1;33m\u001b[0m\u001b[1;33m\u001b[0m\u001b[0m\n\u001b[0m",
      "\u001b[1;32m~\\AppData\\Local\\Temp/ipykernel_15584/2833132159.py\u001b[0m in \u001b[0;36mx\u001b[1;34m(self)\u001b[0m\n\u001b[0;32m      6\u001b[0m     \u001b[1;33m@\u001b[0m\u001b[0mproperty\u001b[0m\u001b[1;33m\u001b[0m\u001b[1;33m\u001b[0m\u001b[0m\n\u001b[0;32m      7\u001b[0m     \u001b[1;32mdef\u001b[0m \u001b[0mx\u001b[0m\u001b[1;33m(\u001b[0m\u001b[0mself\u001b[0m\u001b[1;33m)\u001b[0m\u001b[1;33m:\u001b[0m\u001b[1;33m\u001b[0m\u001b[1;33m\u001b[0m\u001b[0m\n\u001b[1;32m----> 8\u001b[1;33m         \u001b[1;32mreturn\u001b[0m \u001b[0mself\u001b[0m\u001b[1;33m.\u001b[0m\u001b[0m__x\u001b[0m\u001b[1;33m\u001b[0m\u001b[1;33m\u001b[0m\u001b[0m\n\u001b[0m\u001b[0;32m      9\u001b[0m \u001b[1;33m\u001b[0m\u001b[0m\n\u001b[0;32m     10\u001b[0m     \u001b[1;33m@\u001b[0m\u001b[0mx\u001b[0m\u001b[1;33m.\u001b[0m\u001b[0msetter\u001b[0m\u001b[1;33m\u001b[0m\u001b[1;33m\u001b[0m\u001b[0m\n",
      "\u001b[1;31mAttributeError\u001b[0m: 'A' object has no attribute '_A__x'"
     ]
    }
   ],
   "source": [
    "class A:\n",
    "\n",
    "    def __init__(self, val):\n",
    "        self.x = val\n",
    "\n",
    "    @property\n",
    "    def x(self):\n",
    "        return self.__x\n",
    "\n",
    "    @x.setter\n",
    "    def x(self, val):\n",
    "        self.__x = val\n",
    "        \n",
    "    @x.deleter\n",
    "    def x(self):\n",
    "        del self.__x\n",
    "\n",
    "a = A(7)\n",
    "del a.x\n",
    "print(a.x)"
   ]
  },
  {
   "cell_type": "code",
   "execution_count": 7,
   "id": "dcc28291",
   "metadata": {},
   "outputs": [
    {
     "name": "stdout",
     "output_type": "stream",
     "text": [
      "Hi!!Hi!!Hi!!\n"
     ]
    }
   ],
   "source": [
    "def stringDisplay():\n",
    "    while True:\n",
    "        s = yield\n",
    "        print(s*3)\n",
    "\n",
    "\n",
    "c = stringDisplay()\n",
    "next(c)\n",
    "c.send('Hi!!')"
   ]
  },
  {
   "cell_type": "code",
   "execution_count": 8,
   "id": "d905092b",
   "metadata": {},
   "outputs": [
    {
     "name": "stdout",
     "output_type": "stream",
     "text": [
      "In class B, Method m1.\n"
     ]
    }
   ],
   "source": [
    "from abc import ABC, abstractmethod\n",
    "\n",
    "class A(ABC):\n",
    "\n",
    "    @abstractmethod\n",
    "    def m1(self):\n",
    "        print('In class A, Method m1.')\n",
    "\n",
    "class B(A):\n",
    "\n",
    "    @staticmethod\n",
    "    def m1(self):\n",
    "        print('In class B, Method m1.')\n",
    "\n",
    "b = B()\n",
    "B.m1(b)\n"
   ]
  },
  {
   "cell_type": "code",
   "execution_count": 10,
   "id": "1c27b65c",
   "metadata": {},
   "outputs": [
    {
     "name": "stdout",
     "output_type": "stream",
     "text": [
      "First Name: George\n",
      "Last Name: Williams\n",
      "First Name: John\n"
     ]
    }
   ],
   "source": [
    "def nameFeeder():\n",
    "    while True:\n",
    "        fname = yield\n",
    "        print('First Name:', fname)\n",
    "        lname = yield\n",
    "        print('Last Name:', lname)\n",
    "\n",
    "n = nameFeeder()\n",
    "next(n)\n",
    "n.send('George')\n",
    "n.send('Williams')\n",
    "n.send('John')\n",
    "\n",
    "    "
   ]
  },
  {
   "cell_type": "code",
   "execution_count": null,
   "id": "6a6bab22",
   "metadata": {},
   "outputs": [],
   "source": []
  }
 ],
 "metadata": {
  "kernelspec": {
   "display_name": "Python 3 (ipykernel)",
   "language": "python",
   "name": "python3"
  },
  "language_info": {
   "codemirror_mode": {
    "name": "ipython",
    "version": 3
   },
   "file_extension": ".py",
   "mimetype": "text/x-python",
   "name": "python",
   "nbconvert_exporter": "python",
   "pygments_lexer": "ipython3",
   "version": "3.9.7"
  }
 },
 "nbformat": 4,
 "nbformat_minor": 5
}
